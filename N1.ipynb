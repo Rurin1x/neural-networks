{
 "cells": [
  {
   "cell_type": "code",
   "execution_count": 2,
   "metadata": {},
   "outputs": [],
   "source": [
    "import numpy as np"
   ]
  },
  {
   "cell_type": "code",
   "execution_count": 3,
   "metadata": {},
   "outputs": [],
   "source": [
    "def act(x):\n",
    "    return 0 if x < 0.5 else 1"
   ]
  },
  {
   "cell_type": "code",
   "execution_count": null,
   "metadata": {},
   "outputs": [],
   "source": [
    "def go(house, rock, attr):\n",
    "    x = np.array([house, rock, attr])\n",
    "    w11 = [0.3, 0.3, 0]\n",
    "    w12 = [0.4, -0.5, 1]\n",
    "    weight1 = np.array([w11, w12])  # матрица 2x3\n",
    "    weight2 = np.array([-1, 1])     # вектор 1х2\n",
    "\n",
    "    sum_hidden = np.dot(weight1, x)       # вычисляем сумму на входах нейронов скрытого слоя\n",
    "    print(\"Значения сумм на нейронах скрытого слоя: \"+str(sum_hidden))\n",
    "\n",
    "    out_hidden = np.array([act(x) for x in sum_hidden])\n",
    "    print(\"Значения на выходах нейронов скрытого слоя: \"+str(out_hidden))\n",
    "\n",
    "    sum_end = np.dot(weight2, out_hidden)\n",
    "    y = act(sum_end)\n",
    "    print(\"Выходное значение НС: \"+str(y))\n",
    "\n",
    "    return y"
   ]
  },
  {
   "cell_type": "code",
   "execution_count": null,
   "metadata": {},
   "outputs": [],
   "source": [
    "house = 1\n",
    "rock = 0\n",
    "attr = 1\n",
    "\n",
    "res = go(house, rock, attr)\n",
    "if res == 1:\n",
    "    print(\"Ты мне нравишься\")\n",
    "else:\n",
    "    print(\"Созвонимся\")"
   ]
  }
 ],
 "metadata": {
  "kernelspec": {
   "display_name": "Python 3.8.10 64-bit",
   "language": "python",
   "name": "python3"
  },
  "language_info": {
   "codemirror_mode": {
    "name": "ipython",
    "version": 3
   },
   "file_extension": ".py",
   "mimetype": "text/x-python",
   "name": "python",
   "nbconvert_exporter": "python",
   "pygments_lexer": "ipython3",
   "version": "3.8.10"
  },
  "orig_nbformat": 4,
  "vscode": {
   "interpreter": {
    "hash": "52634da84371cba311ea128a5ea7cdc41ff074b781779e754b270ff9f8153cee"
   }
  }
 },
 "nbformat": 4,
 "nbformat_minor": 2
}
